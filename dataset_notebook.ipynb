{
 "cells": [
  {
   "cell_type": "code",
   "execution_count": 1,
   "metadata": {},
   "outputs": [],
   "source": [
    "import pandas as pd\n",
    "import numpy as np\n",
    "import matplotlib.pyplot as plt"
   ]
  },
  {
   "cell_type": "markdown",
   "metadata": {},
   "source": [
    "Imported necessary libraries"
   ]
  },
  {
   "cell_type": "code",
   "execution_count": 7,
   "metadata": {},
   "outputs": [
    {
     "name": "stdout",
     "output_type": "stream",
     "text": [
      "               County       City State  Postal Code  Model Year    Make  \\\n",
      "VIN (1-10)                                                                \n",
      "3MW5P9J05N   Arapahoe  Englewood    CO      80111.0        2022     BMW   \n",
      "5YJXCBE27J     Island  Greenbank    WA      98253.0        2018   TESLA   \n",
      "1N4AZ0CP3F      Kings    Lemoore    CA      93245.0        2015  NISSAN   \n",
      "5YJ3E1EA8J  San Diego  Oceanside    CA      92051.0        2018   TESLA   \n",
      "5YJ3E1EB1K    Alameda   Berkeley    CA      94710.0        2019   TESLA   \n",
      "\n",
      "              Model                   Electric Vehicle Type  \\\n",
      "VIN (1-10)                                                    \n",
      "3MW5P9J05N     330E  Plug-in Hybrid Electric Vehicle (PHEV)   \n",
      "5YJXCBE27J  MODEL X          Battery Electric Vehicle (BEV)   \n",
      "1N4AZ0CP3F     LEAF          Battery Electric Vehicle (BEV)   \n",
      "5YJ3E1EA8J  MODEL 3          Battery Electric Vehicle (BEV)   \n",
      "5YJ3E1EB1K  MODEL 3          Battery Electric Vehicle (BEV)   \n",
      "\n",
      "           Clean Alternative Fuel Vehicle (CAFV) Eligibility  Electric Range  \\\n",
      "VIN (1-10)                                                                     \n",
      "3MW5P9J05N             Not eligible due to low battery range              22   \n",
      "5YJXCBE27J           Clean Alternative Fuel Vehicle Eligible             238   \n",
      "1N4AZ0CP3F           Clean Alternative Fuel Vehicle Eligible              84   \n",
      "5YJ3E1EA8J           Clean Alternative Fuel Vehicle Eligible             215   \n",
      "5YJ3E1EB1K           Clean Alternative Fuel Vehicle Eligible             220   \n",
      "\n",
      "            Base MSRP  Legislative District  DOL Vehicle ID  \\\n",
      "VIN (1-10)                                                    \n",
      "3MW5P9J05N          0                   NaN       200589147   \n",
      "5YJXCBE27J          0                  10.0       326880081   \n",
      "1N4AZ0CP3F          0                   NaN       182237457   \n",
      "5YJ3E1EA8J          0                   NaN       153998050   \n",
      "5YJ3E1EB1K          0                   NaN       320914072   \n",
      "\n",
      "                         Vehicle Location Electric Utility  2020 Census Tract  \n",
      "VIN (1-10)                                                                     \n",
      "3MW5P9J05N    POINT (-104.89239 39.61914)              NaN       8.005007e+09  \n",
      "5YJXCBE27J   POINT (-122.575569 48.08489)              NaN       5.302997e+10  \n",
      "1N4AZ0CP3F    POINT (-119.78637 36.30101)              NaN       6.031980e+09  \n",
      "5YJ3E1EA8J                            NaN              NaN       6.073019e+09  \n",
      "5YJ3E1EB1K  POINT (-122.300531 37.869271)              NaN       6.001423e+09  \n"
     ]
    }
   ],
   "source": [
    "dataset = pd.read_csv('Electric_Vehicle_Population_Data.csv', index_col= 0)\n",
    "print(dataset.head())"
   ]
  },
  {
   "cell_type": "markdown",
   "metadata": {},
   "source": [
    "Raw imported csv file with information about EV in the US. The given data is in long format, but it contains a lot unnecessary columns. "
   ]
  },
  {
   "cell_type": "code",
   "execution_count": 8,
   "metadata": {},
   "outputs": [
    {
     "data": {
      "text/plain": [
       "Index(['County', 'City', 'State', 'Postal Code', 'Model Year', 'Make', 'Model',\n",
       "       'Electric Vehicle Type',\n",
       "       'Clean Alternative Fuel Vehicle (CAFV) Eligibility', 'Electric Range',\n",
       "       'Base MSRP', 'Legislative District', 'DOL Vehicle ID',\n",
       "       'Vehicle Location', 'Electric Utility', '2020 Census Tract'],\n",
       "      dtype='object')"
      ]
     },
     "execution_count": 8,
     "metadata": {},
     "output_type": "execute_result"
    }
   ],
   "source": [
    "dataset.columns"
   ]
  },
  {
   "cell_type": "markdown",
   "metadata": {},
   "source": [
    "From above instruction, for the purpose of our analysis, we're only gonna need columns: State, Model and Electric Vehicle Type."
   ]
  },
  {
   "cell_type": "code",
   "execution_count": 9,
   "metadata": {},
   "outputs": [
    {
     "name": "stdout",
     "output_type": "stream",
     "text": [
      "           State          Model                   Electric Vehicle Type\n",
      "VIN (1-10)                                                             \n",
      "3MW5P9J05N    CO           330E  Plug-in Hybrid Electric Vehicle (PHEV)\n",
      "5YJXCBE27J    WA        MODEL X          Battery Electric Vehicle (BEV)\n",
      "1N4AZ0CP3F    CA           LEAF          Battery Electric Vehicle (BEV)\n",
      "5YJ3E1EA8J    CA        MODEL 3          Battery Electric Vehicle (BEV)\n",
      "5YJ3E1EB1K    CA        MODEL 3          Battery Electric Vehicle (BEV)\n",
      "...          ...            ...                                     ...\n",
      "KM8K33AGXN    WA  KONA ELECTRIC          Battery Electric Vehicle (BEV)\n",
      "5YJ3E1EB2N    WA        MODEL 3          Battery Electric Vehicle (BEV)\n",
      "5YJYGDEE9M    WA        MODEL Y          Battery Electric Vehicle (BEV)\n",
      "1N4AZ1CP0J    WA           LEAF          Battery Electric Vehicle (BEV)\n",
      "5YJYGDEE2M    WA        MODEL Y          Battery Electric Vehicle (BEV)\n",
      "\n",
      "[109481 rows x 3 columns]\n"
     ]
    }
   ],
   "source": [
    "dataset = dataset[[\"State\", 'Model', 'Electric Vehicle Type']]\n",
    "print(dataset)"
   ]
  },
  {
   "cell_type": "markdown",
   "metadata": {},
   "source": [
    "We have the dataset with correct data columns - now let's explore the State column and see what values it holds."
   ]
  },
  {
   "cell_type": "code",
   "execution_count": 10,
   "metadata": {},
   "outputs": [
    {
     "name": "stdout",
     "output_type": "stream",
     "text": [
      "['CO' 'WA' 'CA' 'CT' 'VA' 'FL' 'TX' 'PA' 'NY' 'AZ' 'IL' 'GA' 'NE' 'MD'\n",
      " 'WY' 'TN' 'NJ' 'NV' 'MA' 'NC' 'MO' 'KS' 'UT' 'SC' 'KY' 'ME' 'HI' 'OR'\n",
      " 'DC' 'OK' 'NH' 'AR' 'OH' 'NM' 'MN' 'RI' 'ID' 'AK' 'AL' 'MS' 'ND' 'SD'\n",
      " 'LA' 'WI']\n"
     ]
    }
   ],
   "source": [
    "print(dataset[\"State\"].unique())"
   ]
  },
  {
   "cell_type": "markdown",
   "metadata": {},
   "source": [
    "Now that we have a list of states in the dataset, we can attempt to plot the amount of EV's in particular states and make a comparison."
   ]
  },
  {
   "cell_type": "code",
   "execution_count": 39,
   "metadata": {},
   "outputs": [
    {
     "name": "stdout",
     "output_type": "stream",
     "text": [
      "       Electric Vehicle Type\n",
      "State                       \n",
      "CA                        47\n",
      "NY                         2\n",
      "TX                        10\n"
     ]
    },
    {
     "data": {
      "image/png": "[encoded data removed]",
      "text/plain": [
       "<Figure size 640x480 with 1 Axes>"
      ]
     },
     "metadata": {},
     "output_type": "display_data"
    }
   ],
   "source": [
    "dataset_states = dataset[dataset['State'].isin(['TX','CA','NY'])]\n",
    "dataset['Electric Vehicle Type'].unique()\n",
    "dataset_states_BEV = dataset_states[dataset_states['Electric Vehicle Type'] == 'Battery Electric Vehicle (BEV)']\n",
    "dataset_rdy = dataset_states_BEV.pivot_table(values = 'Electric Vehicle Type', index = 'State' ,aggfunc= 'count')\n",
    "print(dataset_rdy)\n",
    "plt.bar(x = dataset_rdy.index, height = dataset_rdy['Electric Vehicle Type'])\n",
    "plt.show()"
   ]
  },
  {
   "cell_type": "markdown",
   "metadata": {},
   "source": [
    "From this plot we can clearly see that from the chosen 3 states (Texas, California and New York), California has the highest amount of registeres Battery Electric Vehicles"
   ]
  }
 ],
 "metadata": {
  "kernelspec": {
   "display_name": "Python 3.8.10 64-bit",
   "language": "python",
   "name": "python3"
  },
  "language_info": {
   "codemirror_mode": {
    "name": "ipython",
    "version": 3
   },
   "file_extension": ".py",
   "mimetype": "text/x-python",
   "name": "python",
   "nbconvert_exporter": "python",
   "pygments_lexer": "ipython3",
   "version": "3.8.10"
  },
  "orig_nbformat": 4,
  "vscode": {
   "interpreter": {
    "hash": "31f2aee4e71d21fbe5cf8b01ff0e069b9275f58929596ceb00d14d90e3e16cd6"
   }
  }
 },
 "nbformat": 4,
 "nbformat_minor": 2
}
